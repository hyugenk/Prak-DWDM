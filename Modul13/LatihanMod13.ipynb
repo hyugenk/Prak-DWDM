{
 "cells": [
  {
   "cell_type": "code",
   "execution_count": 16,
   "id": "02e9d034",
   "metadata": {},
   "outputs": [],
   "source": [
    "import pandas as pd\n",
    "import numpy as np\n",
    "from sklearn.decomposition import PCA"
   ]
  },
  {
   "cell_type": "code",
   "execution_count": 17,
   "id": "22e49201",
   "metadata": {},
   "outputs": [
    {
     "name": "stdout",
     "output_type": "stream",
     "text": [
      "      User ID  Category 1  Category 2  Category 3  Category 4  Category 5  \\\n",
      "0      User 1        0.93        1.80        2.29        0.62        0.80   \n",
      "1      User 2        1.02        2.20        2.66        0.64        1.42   \n",
      "2      User 3        1.22        0.80        0.54        0.53        0.24   \n",
      "3      User 4        0.45        1.80        0.29        0.57        0.46   \n",
      "4      User 5        0.51        1.20        1.18        0.57        1.54   \n",
      "..        ...         ...         ...         ...         ...         ...   \n",
      "975  User 976        0.74        1.12        0.30        0.53        0.88   \n",
      "976  User 977        1.25        0.92        1.12        0.38        0.78   \n",
      "977  User 978        0.61        1.32        0.67        0.43        1.30   \n",
      "978  User 979        0.93        0.20        0.13        0.43        0.30   \n",
      "979  User 980        0.93        0.56        1.13        0.51        1.34   \n",
      "\n",
      "     Category 6  Category 7  Category 8  Category 9  Category 10  \n",
      "0          2.42        3.19        2.79        1.82         2.42  \n",
      "1          3.18        3.21        2.63        1.86         2.32  \n",
      "2          1.54        3.18        2.80        1.31         2.50  \n",
      "3          1.52        3.18        2.96        1.57         2.86  \n",
      "4          2.02        3.18        2.78        1.18         2.54  \n",
      "..          ...         ...         ...         ...          ...  \n",
      "975        1.38        3.17        2.78        0.99         3.20  \n",
      "976        1.68        3.18        2.79        1.34         2.80  \n",
      "977        1.78        3.17        2.81        1.34         3.02  \n",
      "978        0.40        3.18        2.98        1.12         2.46  \n",
      "979        2.36        3.18        2.87        1.34         2.40  \n",
      "\n",
      "[980 rows x 11 columns]\n"
     ]
    }
   ],
   "source": [
    "data = pd.read_csv('tripadvisor.csv')\n",
    "print(data)"
   ]
  },
  {
   "cell_type": "code",
   "execution_count": 18,
   "id": "f67f39a3",
   "metadata": {},
   "outputs": [
    {
     "name": "stdout",
     "output_type": "stream",
     "text": [
      "     Category 1  Category 2  Category 3  Category 4  Category 5  Category 6  \\\n",
      "0          0.93        1.80        2.29        0.62        0.80        2.42   \n",
      "1          1.02        2.20        2.66        0.64        1.42        3.18   \n",
      "2          1.22        0.80        0.54        0.53        0.24        1.54   \n",
      "3          0.45        1.80        0.29        0.57        0.46        1.52   \n",
      "4          0.51        1.20        1.18        0.57        1.54        2.02   \n",
      "..          ...         ...         ...         ...         ...         ...   \n",
      "975        0.74        1.12        0.30        0.53        0.88        1.38   \n",
      "976        1.25        0.92        1.12        0.38        0.78        1.68   \n",
      "977        0.61        1.32        0.67        0.43        1.30        1.78   \n",
      "978        0.93        0.20        0.13        0.43        0.30        0.40   \n",
      "979        0.93        0.56        1.13        0.51        1.34        2.36   \n",
      "\n",
      "     Category 7  Category 8  Category 9  Category 10  \n",
      "0          3.19        2.79        1.82         2.42  \n",
      "1          3.21        2.63        1.86         2.32  \n",
      "2          3.18        2.80        1.31         2.50  \n",
      "3          3.18        2.96        1.57         2.86  \n",
      "4          3.18        2.78        1.18         2.54  \n",
      "..          ...         ...         ...          ...  \n",
      "975        3.17        2.78        0.99         3.20  \n",
      "976        3.18        2.79        1.34         2.80  \n",
      "977        3.17        2.81        1.34         3.02  \n",
      "978        3.18        2.98        1.12         2.46  \n",
      "979        3.18        2.87        1.34         2.40  \n",
      "\n",
      "[980 rows x 10 columns]\n"
     ]
    }
   ],
   "source": [
    "X = data.drop(columns = ['User ID'])\n",
    "print(X)"
   ]
  },
  {
   "cell_type": "code",
   "execution_count": 19,
   "id": "b3cacf51",
   "metadata": {},
   "outputs": [
    {
     "name": "stdout",
     "output_type": "stream",
     "text": [
      "Jumlah fitur input : 10 fitur\n"
     ]
    }
   ],
   "source": [
    "num_features = X.shape[1]\n",
    "print('Jumlah fitur input :', num_features, 'fitur')"
   ]
  },
  {
   "cell_type": "code",
   "execution_count": 20,
   "id": "98ca3c29",
   "metadata": {},
   "outputs": [
    {
     "data": {
      "text/plain": [
       "PCA(n_components=10)"
      ]
     },
     "execution_count": 20,
     "metadata": {},
     "output_type": "execute_result"
    }
   ],
   "source": [
    "pca = PCA(n_components = num_features)\n",
    "pca.fit(X)"
   ]
  },
  {
   "cell_type": "code",
   "execution_count": 21,
   "id": "095513b0",
   "metadata": {},
   "outputs": [
    {
     "name": "stdout",
     "output_type": "stream",
     "text": [
      "Fitur independen ke_ 1 Menghasilkan variance ratio sebesar 0.4252009\n",
      "Fitur independen ke_ 2 Menghasilkan variance ratio sebesar 0.1772314\n",
      "Fitur independen ke_ 3 Menghasilkan variance ratio sebesar 0.1245329\n",
      "Fitur independen ke_ 4 Menghasilkan variance ratio sebesar 0.0731861\n",
      "Fitur independen ke_ 5 Menghasilkan variance ratio sebesar 0.0693468\n",
      "Fitur independen ke_ 6 Menghasilkan variance ratio sebesar 0.0538007\n",
      "Fitur independen ke_ 7 Menghasilkan variance ratio sebesar 0.0412973\n",
      "Fitur independen ke_ 8 Menghasilkan variance ratio sebesar 0.0258732\n",
      "Fitur independen ke_ 9 Menghasilkan variance ratio sebesar 0.0095227\n",
      "Fitur independen ke_ 10 Menghasilkan variance ratio sebesar 8e-06\n"
     ]
    }
   ],
   "source": [
    "for i, j in enumerate(pca.explained_variance_ratio_):\n",
    "    print('Fitur independen ke_', (i+1), 'Menghasilkan variance ratio sebesar', round(j, 7))"
   ]
  },
  {
   "cell_type": "code",
   "execution_count": 22,
   "id": "f398e7af",
   "metadata": {},
   "outputs": [
    {
     "name": "stdout",
     "output_type": "stream",
     "text": [
      "Fitur independen ke_ 1 Menghasilkan variance ratio sebesar 0.4252009\n",
      "Fitur independen ke_ 2 Menghasilkan variance ratio sebesar 0.1772314\n",
      "Fitur independen ke_ 3 Menghasilkan variance ratio sebesar 0.1245329\n",
      "Fitur independen ke_ 4 Menghasilkan variance ratio sebesar 0.0731861\n",
      "Fitur independen ke_ 5 Menghasilkan variance ratio sebesar 0.0693468\n",
      "Fitur independen ke_ 6 Menghasilkan variance ratio sebesar 0.0538007\n"
     ]
    }
   ],
   "source": [
    "cummulative_variance = 0\n",
    "num_pc = 0\n",
    "for i, j in enumerate(pca.explained_variance_ratio_):\n",
    "    if cummulative_variance < 0.9:\n",
    "        num_pc += 1\n",
    "        cummulative_variance += j\n",
    "        print('Fitur independen ke_', (i+1), 'Menghasilkan variance ratio sebesar', round(j, 7))"
   ]
  },
  {
   "cell_type": "code",
   "execution_count": 23,
   "id": "7bcc8cd7",
   "metadata": {},
   "outputs": [
    {
     "data": {
      "text/plain": [
       "PCA(n_components=6)"
      ]
     },
     "execution_count": 23,
     "metadata": {},
     "output_type": "execute_result"
    }
   ],
   "source": [
    "pca_reduced = PCA(n_components = num_pc)\n",
    "pca_reduced.fit(X)"
   ]
  }
 ],
 "metadata": {
  "kernelspec": {
   "display_name": "Python 3 (ipykernel)",
   "language": "python",
   "name": "python3"
  },
  "language_info": {
   "codemirror_mode": {
    "name": "ipython",
    "version": 3
   },
   "file_extension": ".py",
   "mimetype": "text/x-python",
   "name": "python",
   "nbconvert_exporter": "python",
   "pygments_lexer": "ipython3",
   "version": "3.10.1"
  }
 },
 "nbformat": 4,
 "nbformat_minor": 5
}
